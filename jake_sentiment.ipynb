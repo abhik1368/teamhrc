{
 "cells": [
  {
   "cell_type": "code",
   "execution_count": 22,
   "metadata": {
    "collapsed": true
   },
   "outputs": [],
   "source": [
    "import pandas as pd\n",
    "import nltk\n",
    "import re\n",
    "import numpy as np\n",
    "from textblob import TextBlob\n",
    "# emails = pd.read_csv(\"../../hillary_emails.csv\")"
   ]
  },
  {
   "cell_type": "code",
   "execution_count": 5,
   "metadata": {
    "collapsed": false
   },
   "outputs": [],
   "source": [
    "import string\n",
    "import nltk\n",
    "from nltk.tokenize import RegexpTokenizer\n",
    "from nltk.corpus import stopwords\n",
    "import re\n",
    "\n",
    "def preprocess(sentence):\n",
    "    sentence = sentence.lower()\n",
    "    tokenizer = RegexpTokenizer(r'[a-z]+') # or just '\\w+, this dumps numbers too\n",
    "    tokens = tokenizer.tokenize(sentence)\n",
    "    filtered_words = [w for w in tokens if not w in stopwords.words('english')]\n",
    "    return \" \".join(filtered_words)\n",
    "\n",
    "emails.testBody = emails.ExtractedBodyText.apply(lambda x: str(x)).apply(lambda x: preprocess(x))"
   ]
  },
  {
   "cell_type": "code",
   "execution_count": 7,
   "metadata": {
    "collapsed": false,
    "scrolled": true
   },
   "outputs": [
    {
     "data": {
      "text/plain": [
       "0                                                     nan\n",
       "1       b thursday march pm h latest syria aiding qadd...\n",
       "2                                                     thx\n",
       "3                                                     nan\n",
       "4       h hrod clintonemail com friday march pm huma a...\n",
       "5       pis print h hrod clintonernailcom wednesday se...\n",
       "6                                                     nan\n",
       "7       h hrod clintonemail corn friday march pm huma ...\n",
       "8                                                     fyi\n",
       "9       b wednesday september pm fwd libya libya sept ...\n",
       "10                                                  fyi b\n",
       "11      b wednesday september pm fwd libya libya sept ...\n",
       "12                                                    fyi\n",
       "13      anne marie slaughter sunday march pm jacob mil...\n",
       "14      randolph lawrence m sent wednesday september p...\n",
       "15      asked attend svtc today embassy tripoli first ...\n",
       "16                           hope see picture kamala sent\n",
       "17                                          another photo\n",
       "18                                                   nice\n",
       "19      amazing sullivan jacob j sullivanii state gov ...\n",
       "20      h hrod clintonernaii com wednesday september p...\n",
       "21      pis print h hrod clintoriernail corn wednesday...\n",
       "22                                              pis print\n",
       "23            follow flag follow flag status flagged info\n",
       "24                                                      b\n",
       "25      sidney blumenthal thursday september h magaria...\n",
       "26                                                       \n",
       "27                                         remind discuss\n",
       "28      http religion b ogs cnn com take deadlv link i...\n",
       "29                                               see note\n",
       "                              ...                        \n",
       "7915    sbwhoeop tuesday december say sad holbrooke fi...\n",
       "7916    death holbrookell y j u l ydalo j b see keep s...\n",
       "7917                                                  nan\n",
       "7918                                                  nan\n",
       "7919    verveer melanne sent tue dec subject re norweg...\n",
       "7920                   lona went talk u changed obviously\n",
       "7921                                                  fyi\n",
       "7922    madame secretary wanted flag sent huma new dra...\n",
       "7923    bottom page ambassador richard holbrooke huge ...\n",
       "7924    usglc breakfast qddr won morning meeting see s...\n",
       "7925              passed senate start vote motion proceed\n",
       "7926                                                     \n",
       "7927                                       traffic bottom\n",
       "7928                                fyi forwarded message\n",
       "7929    agree writing integrating first instance staye...\n",
       "7930    nice forgot tell harrowing circling attempted ...\n",
       "7931                                                  nan\n",
       "7932                                           worth read\n",
       "7933    unsigned editorials appear bloomberg online pr...\n",
       "7934                                                  nan\n",
       "7935                                                  nan\n",
       "7936    mills cheryl d millscd state gov thursday dece...\n",
       "7937    nbc yorker december envoy posted hendrik hertz...\n",
       "7938    hi sorry haven chance see want hear directly g...\n",
       "7939            b assume saw worth read forwarded message\n",
       "7940                                                  nan\n",
       "7941    big change plans senate senator reid announced...\n",
       "7942                                                  nan\n",
       "7943    pverveer b friday december b please let know h...\n",
       "7944                                                  see\n",
       "Name: ExtractedBodyText, dtype: object"
      ]
     },
     "execution_count": 7,
     "metadata": {},
     "output_type": "execute_result"
    }
   ],
   "source": [
    "emails.testBody"
   ]
  },
  {
   "cell_type": "code",
   "execution_count": 9,
   "metadata": {
    "collapsed": false
   },
   "outputs": [
    {
     "data": {
      "text/plain": [
       "[[('nan', u'NN')],\n",
       " [('b', u'NN'),\n",
       "  ('thursday', u'NN'),\n",
       "  ('march', u'NN'),\n",
       "  ('pm', u'NN'),\n",
       "  ('h', u'NN'),\n",
       "  ('latest', u'JJS'),\n",
       "  ('syria', u'NN'),\n",
       "  ('aiding', u'VBG'),\n",
       "  ('qaddafi', u'JJ'),\n",
       "  ('sid', u'NN'),\n",
       "  ('hrc', u'NN'),\n",
       "  ('memo', u'NN'),\n",
       "  ('syria', u'NN'),\n",
       "  ('aiding', u'VBG'),\n",
       "  ('libya', u'JJ'),\n",
       "  ('docx', u'NN'),\n",
       "  ('hrc', u'NN'),\n",
       "  ('memo', u'NN'),\n",
       "  ('syria', u'NN'),\n",
       "  ('aiding', u'VBG'),\n",
       "  ('libya', u'JJ'),\n",
       "  ('docx', u'JJ'),\n",
       "  ('march', u'NN'),\n",
       "  ('hillary', u'NN')],\n",
       " [('thx', u'NN')],\n",
       " [('nan', u'NN')],\n",
       " [('h', u'NN'),\n",
       "  ('hrod', u'NN'),\n",
       "  ('clintonemail', u'NN'),\n",
       "  ('com', u'NN'),\n",
       "  ('friday', u'JJ'),\n",
       "  ('march', u'NN'),\n",
       "  ('pm', u'NN'),\n",
       "  ('huma', u'NN'),\n",
       "  ('abedin', u'NN'),\n",
       "  ('fw', u'NN'),\n",
       "  ('h', u'NN'),\n",
       "  ('latest', u'JJS'),\n",
       "  ('syria', u'NN'),\n",
       "  ('aiding', u'VBG'),\n",
       "  ('qaddafi', u'JJ'),\n",
       "  ('sid', u'NN'),\n",
       "  ('hrc', u'NN'),\n",
       "  ('memo', u'NN'),\n",
       "  ('syria', u'NN'),\n",
       "  ('aiding', u'VBG'),\n",
       "  ('libya', u'JJ'),\n",
       "  ('docx', u'NN'),\n",
       "  ('pis', u'NN'),\n",
       "  ('print', u'NN')],\n",
       " [('pis', u'JJ'),\n",
       "  ('print', u'NN'),\n",
       "  ('h', u'NN'),\n",
       "  ('hrod', u'NN'),\n",
       "  ('clintonernailcom', u'NN'),\n",
       "  ('wednesday', u'JJ'),\n",
       "  ('september', u'NNP'),\n",
       "  ('pm', u'NN'),\n",
       "  ('russorv', u'NN'),\n",
       "  ('state', u'NN'),\n",
       "  ('gov', u'NN'),\n",
       "  ('fw', u'NN'),\n",
       "  ('meet', u'NN'),\n",
       "  ('right', u'JJ'),\n",
       "  ('wing', u'VBG'),\n",
       "  ('extremist', u'NN'),\n",
       "  ('behind', u'IN'),\n",
       "  ('anti', u'JJ'),\n",
       "  ('fvluslim', u'NN'),\n",
       "  ('film', u'NN'),\n",
       "  ('sparked', u'VBD'),\n",
       "  ('deadly', u'RB'),\n",
       "  ('riots', u'JJ'),\n",
       "  ('meat', u'NN'),\n",
       "  ('sent', u'VBD'),\n",
       "  ('wednesday', u'JJ'),\n",
       "  ('september', u'NNP'),\n",
       "  ('pm', u'NN'),\n",
       "  ('subject', u'JJ'),\n",
       "  ('meet', u'NN'),\n",
       "  ('right', u'JJ'),\n",
       "  ('wing', u'VBG'),\n",
       "  ('extremist', u'NN'),\n",
       "  ('behind', u'IN'),\n",
       "  ('anti', u'JJ'),\n",
       "  ('muslim', u'NN'),\n",
       "  ('film', u'NN'),\n",
       "  ('sparked', u'VBD'),\n",
       "  ('deadly', u'RB'),\n",
       "  ('riots', u'JJ'),\n",
       "  ('htte', u'NN'),\n",
       "  ('maxbiumenthal', u'NN'),\n",
       "  ('com', u'NN'),\n",
       "  ('meet', u'NN'),\n",
       "  ('right', u'JJ'),\n",
       "  ('wing', u'VBG'),\n",
       "  ('extremist', u'NN'),\n",
       "  ('behind', u'IN'),\n",
       "  ('anti', u'JJ'),\n",
       "  ('musiim', u'NNS'),\n",
       "  ('tihn', u'VBP'),\n",
       "  ('sparked', u'VBN'),\n",
       "  ('deadly', u'RB'),\n",
       "  ('riots', u'JJ'),\n",
       "  ('sent', u'VBD'),\n",
       "  ('verizon', u'NN'),\n",
       "  ('wireless', u'NN'),\n",
       "  ('g', u'NN'),\n",
       "  ('lte', u'NN'),\n",
       "  ('droid', u'NN'),\n",
       "  ('u', u'JJ'),\n",
       "  ('department', u'NN'),\n",
       "  ('state', u'NN'),\n",
       "  ('case', u'NN'),\n",
       "  ('f', u'VBD'),\n",
       "  ('doc', u'JJ'),\n",
       "  ('c', u'NN'),\n",
       "  ('date', u'NN'),\n",
       "  ('state', u'NN'),\n",
       "  ('dept', u'VBD'),\n",
       "  ('produced', u'VBN'),\n",
       "  ('house', u'NN'),\n",
       "  ('select', u'NN'),\n",
       "  ('benghazi', u'NN'),\n",
       "  ('comm', u'NN'),\n",
       "  ('subject', u'JJ'),\n",
       "  ('agreement', u'NN'),\n",
       "  ('sensitive', u'JJ'),\n",
       "  ('information', u'NN'),\n",
       "  ('redactions', u'NNS'),\n",
       "  ('foia', u'VBP'),\n",
       "  ('waiver', u'NN'),\n",
       "  ('state', u'NN'),\n",
       "  ('cb', u'NN')],\n",
       " [('nan', u'NN')],\n",
       " [('h', u'NN'),\n",
       "  ('hrod', u'NN'),\n",
       "  ('clintonemail', u'NN'),\n",
       "  ('corn', u'NN'),\n",
       "  ('friday', u'JJ'),\n",
       "  ('march', u'NN'),\n",
       "  ('pm', u'NN'),\n",
       "  ('huma', u'NN'),\n",
       "  ('abedin', u'NN'),\n",
       "  ('fw', u'NN'),\n",
       "  ('h', u'NN'),\n",
       "  ('latest', u'JJS'),\n",
       "  ('syria', u'NN'),\n",
       "  ('aiding', u'VBG'),\n",
       "  ('qaddafi', u'JJ'),\n",
       "  ('sid', u'NN'),\n",
       "  ('hrc', u'NN'),\n",
       "  ('memo', u'NN'),\n",
       "  ('syria', u'NN'),\n",
       "  ('aiding', u'VBG'),\n",
       "  ('libya', u'JJ'),\n",
       "  ('docx', u'NN'),\n",
       "  ('pis', u'NN'),\n",
       "  ('print', u'NN')],\n",
       " [('fyi', u'NN')],\n",
       " [('b', u'NN'),\n",
       "  ('wednesday', u'JJ'),\n",
       "  ('september', u'NNP'),\n",
       "  ('pm', u'NN'),\n",
       "  ('fwd', u'NN'),\n",
       "  ('libya', u'NN'),\n",
       "  ('libya', u'NN'),\n",
       "  ('sept', u'VBD'),\n",
       "  ('docx', u'JJ'),\n",
       "  ('sending', u'VBG'),\n",
       "  ('direct', u'JJ'),\n",
       "  ('sent', u'NN'),\n",
       "  ('verizon', u'NN'),\n",
       "  ('wireless', u'NN'),\n",
       "  ('g', u'NN'),\n",
       "  ('lte', u'NN'),\n",
       "  ('druid', u'NN')]]"
      ]
     },
     "execution_count": 9,
     "metadata": {},
     "output_type": "execute_result"
    }
   ],
   "source": [
    "from textblob import TextBlob\n",
    "tags_test = []\n",
    "for x in range(10):\n",
    "    tags_test.append(TextBlob(emails.testBody[x]).tags)"
   ]
  },
  {
   "cell_type": "code",
   "execution_count": 38,
   "metadata": {
    "collapsed": false
   },
   "outputs": [
    {
     "data": {
      "text/plain": [
       "True"
      ]
     },
     "execution_count": 38,
     "metadata": {},
     "output_type": "execute_result"
    }
   ],
   "source": [
    "type(emails.ExtractedBodyText[1]) == str"
   ]
  },
  {
   "cell_type": "code",
   "execution_count": 130,
   "metadata": {
    "collapsed": false
   },
   "outputs": [
    {
     "data": {
      "text/plain": [
       "TextBlob(\"nan\")"
      ]
     },
     "execution_count": 130,
     "metadata": {},
     "output_type": "execute_result"
    }
   ],
   "source": [
    "# Floats cant be put through textblob, must convert to str (hashed line doesnt' work)\n",
    "type(emails.ExtractedBodyText[0])\n",
    "# blob = TextBlob(emails.ExtractedBodyText[0])\n",
    "blob = TextBlob(str(emails.ExtractedBodyText[0]))\n",
    "blob"
   ]
  },
  {
   "cell_type": "code",
   "execution_count": 127,
   "metadata": {
    "collapsed": false
   },
   "outputs": [
    {
     "data": {
      "text/plain": [
       "TextBlob(\"Pis print.\n",
       "-•-...-^\n",
       "H < hrod17@clintonernailcom>\n",
       "Wednesday, September 12, 2012 2:11 PM\n",
       "°Russorv@state.gov'\n",
       "Fw: Meet The Right-Wing Extremist Behind Anti-fvluslim Film That Sparked Deadly Riots\n",
       "From [meat)\n",
       "Sent: Wednesday, September 12, 2012 01:00 PM\n",
       "To: 11\n",
       "Subject: Meet The Right Wing Extremist Behind Anti-Muslim Film That Sparked Deadly Riots\n",
       "htte/maxbiumenthal.com12012/09/meet-the-right-wing-extremist-behind-anti-musiim-tihn-that-sparked-\n",
       "deadly-riots/\n",
       "Sent from my Verizon Wireless 4G LTE DROID\n",
       "U.S. Department of State\n",
       "Case No. F-2015-04841\n",
       "Doc No. C05739559\n",
       "Date: 05/13/2015\n",
       "STATE DEPT. - PRODUCED TO HOUSE SELECT BENGHAZI COMM.\n",
       "SUBJECT TO AGREEMENT ON SENSITIVE INFORMATION & REDACTIONS. NO FOIA WAIVER. STATE-5CB0045251\")"
      ]
     },
     "execution_count": 127,
     "metadata": {},
     "output_type": "execute_result"
    }
   ],
   "source": [
    "# Some strings have weird unicode, must decode first\n",
    "type(emails.ExtractedBodyText[5])\n",
    "blob = TextBlob(emails.ExtractedBodyText[5].decode('utf-8'))\n",
    "blob"
   ]
  },
  {
   "cell_type": "code",
   "execution_count": 31,
   "metadata": {
    "collapsed": false,
    "scrolled": true
   },
   "outputs": [
    {
     "data": {
      "text/plain": [
       "[defaultdict(int,\n",
       "             {u'030311.docx': 2,\n",
       "              u'2011': 2,\n",
       "              u'3': 2,\n",
       "              u'9:45': 1,\n",
       "              u'aiding': 3,\n",
       "              u'and': 1,\n",
       "              u'b6': 1,\n",
       "              u'for': 1,\n",
       "              u'h': 1,\n",
       "              u'hillary': 1,\n",
       "              u'how': 1,\n",
       "              u'hrc': 2,\n",
       "              u'is': 1,\n",
       "              u'latest': 1,\n",
       "              u'libya': 2,\n",
       "              u'march': 2,\n",
       "              u'memo': 2,\n",
       "              u'more': 1,\n",
       "              u'pm': 1,\n",
       "              u'qaddafi': 1,\n",
       "              u'sid': 1,\n",
       "              u'syria': 3,\n",
       "              u'thursday': 1}),\n",
       " defaultdict(int, {u'thx': 1})]"
      ]
     },
     "execution_count": 31,
     "metadata": {},
     "output_type": "execute_result"
    }
   ],
   "source": [
    "# Test how word_counts works\n",
    "test = []\n",
    "test.append(TextBlob(emails.ExtractedBodyText[1]).word_counts)\n",
    "test.append(TextBlob(emails.ExtractedBodyText[2]).word_counts)\n",
    "test"
   ]
  },
  {
   "cell_type": "code",
   "execution_count": 32,
   "metadata": {
    "collapsed": false
   },
   "outputs": [],
   "source": [
    "# make blobs and sentiments\n",
    "blobs = []\n",
    "sentiments = []\n",
    "count_dict = []\n",
    "for x in range(len(emails.ExtractedBodyText)):\n",
    "    if type(emails.ExtractedBodyText[x]) != float:\n",
    "        content = emails.ExtractedBodyText[x].decode('utf-8')\n",
    "    else:\n",
    "        content = str(emails.ExtractedBodyText[x])\n",
    "    blob = TextBlob(content)\n",
    "    blobs.append(blob)\n",
    "    count_dict.append(blob.word_counts)\n",
    "    sentiments.append(blob.sentiment.polarity)"
   ]
  },
  {
   "cell_type": "code",
   "execution_count": 34,
   "metadata": {
    "collapsed": false
   },
   "outputs": [],
   "source": [
    "# add sentiment and blob columns\n",
    "emails['sentiments'] = sentiments\n",
    "emails['blobs'] = blobs\n",
    "emails['count_dict'] = count_dict"
   ]
  },
  {
   "cell_type": "code",
   "execution_count": 39,
   "metadata": {
    "collapsed": false
   },
   "outputs": [
    {
     "data": {
      "text/plain": [
       "TextBlob(\"nan\")"
      ]
     },
     "execution_count": 39,
     "metadata": {},
     "output_type": "execute_result"
    }
   ],
   "source": [
    "# test column\n",
    "emails.blobs[0]"
   ]
  },
  {
   "cell_type": "code",
   "execution_count": 38,
   "metadata": {
    "collapsed": false
   },
   "outputs": [
    {
     "data": {
      "text/plain": [
       "[('nan', u'NN')]"
      ]
     },
     "execution_count": 38,
     "metadata": {},
     "output_type": "execute_result"
    }
   ],
   "source": [
    "# test blob function in column\n",
    "emails.blobs[0].tags"
   ]
  },
  {
   "cell_type": "code",
   "execution_count": 37,
   "metadata": {
    "collapsed": false
   },
   "outputs": [
    {
     "data": {
      "text/plain": [
       "defaultdict(int, {u'nan': 1})"
      ]
     },
     "execution_count": 37,
     "metadata": {},
     "output_type": "execute_result"
    }
   ],
   "source": [
    "# test count_dict column\n",
    "emails.count_dict[0]"
   ]
  },
  {
   "cell_type": "code",
   "execution_count": 40,
   "metadata": {
    "collapsed": false
   },
   "outputs": [],
   "source": [
    "emails.to_csv('emails_sentiment.csv')"
   ]
  },
  {
   "cell_type": "code",
   "execution_count": 3,
   "metadata": {
    "collapsed": false
   },
   "outputs": [],
   "source": [
    "emails = pd.read_csv('emails_sentiment.csv')"
   ]
  },
  {
   "cell_type": "code",
   "execution_count": 6,
   "metadata": {
    "collapsed": false
   },
   "outputs": [
    {
     "data": {
      "text/plain": [
       "<matplotlib.text.Text at 0x10afb5e90>"
      ]
     },
     "execution_count": 6,
     "metadata": {},
     "output_type": "execute_result"
    },
    {
     "data": {
      "image/png": "[encoded data removed]",
      "text/plain": [
       "<matplotlib.figure.Figure at 0x10ae36950>"
      ]
     },
     "metadata": {},
     "output_type": "display_data"
    }
   ],
   "source": [
    "import matplotlib.pyplot as plt\n",
    "import seaborn as sns\n",
    "%matplotlib inline\n",
    "plt.figure(figsize=(10, 10))\n",
    "\n",
    "sns.distplot(emails.sentiments)\n",
    "plt.xlim(-1,1)\n",
    "plt.title('Sentiment of Hillary\\'s Emails', fontsize = 16)"
   ]
  },
  {
   "cell_type": "code",
   "execution_count": 8,
   "metadata": {
    "collapsed": false
   },
   "outputs": [
    {
     "data": {
      "text/plain": [
       "3375"
      ]
     },
     "execution_count": 8,
     "metadata": {},
     "output_type": "execute_result"
    }
   ],
   "source": [
    "# Emails that don't have sentiment = 0\n",
    "len(emails[(emails.sentiments > 0) | (emails.sentiments < 0)])"
   ]
  },
  {
   "cell_type": "code",
   "execution_count": 9,
   "metadata": {
    "collapsed": false
   },
   "outputs": [
    {
     "data": {
      "text/plain": [
       "<matplotlib.text.Text at 0x10b6aef10>"
      ]
     },
     "execution_count": 9,
     "metadata": {},
     "output_type": "execute_result"
    },
    {
     "data": {
      "image/png": "[encoded data removed]",
      "text/plain": [
       "<matplotlib.figure.Figure at 0x10944fbd0>"
      ]
     },
     "metadata": {},
     "output_type": "display_data"
    }
   ],
   "source": [
    "plt.figure(figsize=(10, 10))\n",
    "\n",
    "sns.distplot(emails[(emails.sentiments > 0) | (emails.sentiments < 0)].sentiments)\n",
    "plt.xlim(-1,1)\n",
    "plt.title('Sentiment of Hillary\\s Emails, excluding sentiment = 0', fontsize = 16)"
   ]
  },
  {
   "cell_type": "code",
   "execution_count": null,
   "metadata": {
    "collapsed": true
   },
   "outputs": [],
   "source": []
  }
 ],
 "metadata": {
  "kernelspec": {
   "display_name": "Python 2",
   "language": "python",
   "name": "python2"
  },
  "language_info": {
   "codemirror_mode": {
    "name": "ipython",
    "version": 2
   },
   "file_extension": ".py",
   "mimetype": "text/x-python",
   "name": "python",
   "nbconvert_exporter": "python",
   "pygments_lexer": "ipython2",
   "version": "2.7.10"
  }
 },
 "nbformat": 4,
 "nbformat_minor": 0
}
