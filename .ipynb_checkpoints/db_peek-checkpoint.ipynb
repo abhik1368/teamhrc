{
 "cells": [
  {
   "cell_type": "code",
   "execution_count": 23,
   "metadata": {
    "collapsed": false
   },
   "outputs": [],
   "source": [
    "import sqlite3 as lite\n",
    "import sys\n",
    "import os\n",
    "from collections import namedtuple"
   ]
  },
  {
   "cell_type": "code",
   "execution_count": 31,
   "metadata": {
    "collapsed": false
   },
   "outputs": [],
   "source": [
    "Email = namedtuple('Email', 'id subject to from_ cc dateSent text')\n",
    "con = lite.connect('data/database.sqlite')\n",
    "cur = con.cursor()    "
   ]
  },
  {
   "cell_type": "code",
   "execution_count": 55,
   "metadata": {
    "collapsed": false,
    "scrolled": false
   },
   "outputs": [
    {
     "name": "stdout",
     "output_type": "stream",
     "text": [
      "EMAIL #1\n",
      "TO: Abedin, Huma\n",
      "FROM: H\n",
      "SUBJECT: H: LATEST: HOW SYRIA IS AIDING QADDAFI AND MORE... SID\n",
      "\n",
      "EMAIL #2\n",
      "TO: Russorv@state.gov\n",
      "FROM: H\n",
      "SUBJECT: MEET THE RIGHT-WING EXTREMIST BEHIND ANTI-MUSLIM FILM THAT SPARKED DEADLY RIOTS\n",
      "\n",
      "EMAIL #3\n",
      "TO: Abedin, Huma\n",
      "FROM: H\n",
      "SUBJECT: H: LATEST: HOW SYRIA IS AIDING QADDAFI AND MORE... SID\n",
      "\n",
      "EMAIL #4\n",
      "TO: sullivanjj@state.gov\n",
      "FROM: H\n",
      "SUBJECT: MORE ON LIBYA\n",
      "\n",
      "EMAIL #5\n",
      "TO: Russorv@state.gov\n",
      "FROM: H\n",
      "SUBJECT: MORE ON LIBYA\n",
      "\n",
      "EMAIL #6\n",
      "TO: Russorv@state.gov\n",
      "FROM: H\n",
      "SUBJECT: H: MAGARIAF ON ATTACK ON US IN LIBYA. SID\n",
      "\n",
      "EMAIL #7\n",
      "TO: sullivanjj@state.gov\n",
      "FROM: H\n",
      "SUBJECT: H: MAGARIAF ON ATTACK ON US IN LIBYA. SID\n",
      "\n",
      "EMAIL #8\n",
      "TO: Russorv@state.gov\n",
      "FROM: H\n",
      "SUBJECT: QUICK SUMMARY OF POTUS CALLS TO PRESIDENTS OF LIBYA AND EGYPT\n",
      "\n",
      "EMAIL #9\n",
      "TO: Flores, Oscar\n",
      "FROM: H\n",
      "SUBJECT: BENHAZI/PROTEST STATEMENTS\n",
      "\n",
      "EMAIL #10\n",
      "TO: sullivanjj@state.gov\n",
      "FROM: H\n",
      "SUBJECT: LIBYAN\n",
      "\n"
     ]
    }
   ],
   "source": [
    "numEmails = 10\n",
    "emails = []\n",
    "\n",
    "query = \"SELECT * FROM Emails WHERE MetadataFrom = 'H' LIMIT {};\".format(numEmails)\n",
    "cur.execute(query)\n",
    "data = cur.fetchall()\n",
    "\n",
    "for row in data: # clean it\n",
    "    emails.append(Email(row[0], row[2], row[3], row[4], row[14], row[6], row[21]))\n",
    "\n",
    "x = 1\n",
    "for email in emails:\n",
    "    print \"EMAIL #{}\".format(x)\n",
    "    print \"TO: {}\".format(email.to)\n",
    "    print \"FROM: {}\".format(email.from_)\n",
    "    print \"SUBJECT: {}\".format(email.subject)\n",
    "#     print email.text\n",
    "    print\n",
    "    x += 1\n",
    "    "
   ]
  }
 ],
 "metadata": {
  "kernelspec": {
   "display_name": "Python 2",
   "language": "python",
   "name": "python2"
  },
  "language_info": {
   "codemirror_mode": {
    "name": "ipython",
    "version": 2
   },
   "file_extension": ".py",
   "mimetype": "text/x-python",
   "name": "python",
   "nbconvert_exporter": "python",
   "pygments_lexer": "ipython2",
   "version": "2.7.10"
  }
 },
 "nbformat": 4,
 "nbformat_minor": 0
}
